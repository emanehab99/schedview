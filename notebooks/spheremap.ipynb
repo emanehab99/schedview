{
 "cells": [
  {
   "cell_type": "code",
   "execution_count": null,
   "id": "c0436180-4435-41b8-812f-e219625d1883",
   "metadata": {
    "tags": []
   },
   "outputs": [],
   "source": [
    "import numpy as np\n",
    "import healpy as hp\n",
    "import bokeh\n",
    "import colorcet as cc\n",
    "import pandas as pd\n",
    "import panel as pn\n",
    "from astropy.time import Time\n",
    "import astropy.coordinates\n",
    "\n",
    "import healsparse as hsp\n",
    "\n",
    "import schedview.collect.scheduler_pickle\n",
    "from schedview.plot.spheremap import (\n",
    "    Planisphere,\n",
    "    ArmillarySphere,\n",
    "    MollweideMap,\n",
    "    HorizonMap,\n",
    "    split_healpix_by_resolution,\n",
    ")\n",
    "from schedview.compute.camera import LsstCameraFootprintPerimeter\n",
    "from rubin_sim.scheduler.model_observatory.model_observatory import ModelObservatory\n",
    "import schedview.compute.astro\n",
    "from schedview.collect.stars import load_bright_stars\n",
    "from rubin_sim.scheduler.utils.footprints import get_dustmap\n",
    "\n",
    "from rubin_sim.scheduler.utils.sky_area import SkyAreaGenerator"
   ]
  },
  {
   "cell_type": "code",
   "execution_count": null,
   "id": "4494afa4-4fec-49d2-828e-bc35f1bae14b",
   "metadata": {},
   "outputs": [],
   "source": [
    "pn.extension()"
   ]
  },
  {
   "cell_type": "code",
   "execution_count": null,
   "id": "1fc0a1d5-8b29-4475-b844-9a8af1dfb26c",
   "metadata": {
    "tags": []
   },
   "outputs": [],
   "source": [
    "%%html\n",
    "<script src=\"https://unpkg.com/gpu.js@latest/dist/gpu-browser.min.js\"></script>"
   ]
  },
  {
   "cell_type": "code",
   "execution_count": null,
   "id": "4a8443c8-a8fe-454b-b20a-fba675991294",
   "metadata": {
    "tags": []
   },
   "outputs": [],
   "source": [
    "BAND_COLORS = dict(\n",
    "    u=\"#56b4e9\", g=\"#008060\", r=\"#ff4000\", i=\"#850000\", z=\"#6600cc\", y=\"#222222\"\n",
    ")\n",
    "BAND_HATCH_PATTERNS = dict(\n",
    "    u=\"dot\",\n",
    "    g=\"ring\",\n",
    "    r=\"horizontal_line\",\n",
    "    i=\"vertical_line\",\n",
    "    z=\"right_diagonal_line\",\n",
    "    y=\"left_diagonal_line\",\n",
    ")\n",
    "BAND_HATCH_SCALES = dict(u=6, g=6, r=6, i=6, z=12, y=12)\n",
    "\n",
    "NSIDE_LOW = 8"
   ]
  },
  {
   "cell_type": "code",
   "execution_count": null,
   "id": "045d6d28-0d43-4e0d-9fa6-77bc27113039",
   "metadata": {
    "tags": []
   },
   "outputs": [],
   "source": [
    "observatory = ModelObservatory()\n",
    "night = Time('2025-03-01', location=observatory.location)"
   ]
  },
  {
   "cell_type": "markdown",
   "id": "e8a9d739-b3b6-420b-9535-dac5e4c38c7e",
   "metadata": {},
   "source": [
    "# Simple planisphere example"
   ]
  },
  {
   "cell_type": "code",
   "execution_count": null,
   "id": "de150d15-b9eb-4c9f-8eae-ffc9a7663ab4",
   "metadata": {
    "tags": []
   },
   "outputs": [],
   "source": [
    "plot = bokeh.plotting.figure(\n",
    "    plot_width=512,\n",
    "    plot_height=512,\n",
    "    match_aspect=True,\n",
    "    title=\"Sample 1\",\n",
    ")\n",
    "psphere = Planisphere(mjd=night.mjd, plot=plot)\n",
    "psphere.add_mjd_slider()\n",
    "psphere.add_graticules(graticule_kwargs={'min_decl': -80, 'max_decl': 80, 'decl_space': 20, 'min_ra': 0, 'max_ra': 360, 'ra_space': 30}, line_kwargs={'color': 'lightgray'})\n",
    "psphere.add_ecliptic(color='green')\n",
    "psphere.add_galactic_plane(color='blue')\n",
    "psphere.add_horizon()\n",
    "psphere.add_horizon(zd=70, line_kwargs={\"color\": \"red\", \"line_width\": 2})\n",
    "pn.Row(psphere.figure)"
   ]
  },
  {
   "cell_type": "markdown",
   "id": "35bc25e3-c300-4a93-a9a0-2a3cce4e4529",
   "metadata": {},
   "source": [
    "# Simple armillary sphere example"
   ]
  },
  {
   "cell_type": "code",
   "execution_count": null,
   "id": "48fd12d3-0622-4775-892e-b9c0021d3750",
   "metadata": {
    "tags": []
   },
   "outputs": [],
   "source": [
    "plot = bokeh.plotting.figure(\n",
    "    plot_width=512,\n",
    "    plot_height=512,\n",
    "    match_aspect=True,\n",
    "    title=\"Sample 2\",\n",
    ")\n",
    "asphere = ArmillarySphere(mjd=night.mjd, plot=plot)\n",
    "asphere.add_mjd_slider()\n",
    "asphere.add_graticules()\n",
    "asphere.add_ecliptic()\n",
    "asphere.add_galactic_plane()\n",
    "asphere.add_horizon()\n",
    "asphere.add_horizon(zd=70, line_kwargs={\"color\": \"red\", \"line_width\": 2})\n",
    "pn.Row(asphere.figure)"
   ]
  },
  {
   "cell_type": "markdown",
   "id": "52d24c01-0386-4aae-8667-b5d8f8f7890d",
   "metadata": {
    "execution": {
     "iopub.execute_input": "2023-04-21T19:10:07.171869Z",
     "iopub.status.busy": "2023-04-21T19:10:07.171375Z",
     "iopub.status.idle": "2023-04-21T19:10:07.173953Z",
     "shell.execute_reply": "2023-04-21T19:10:07.173605Z",
     "shell.execute_reply.started": "2023-04-21T19:10:07.171844Z"
    }
   },
   "source": [
    "# Multiple connected views"
   ]
  },
  {
   "cell_type": "code",
   "execution_count": null,
   "id": "ed283de5-f0af-498c-9db9-13ad20afae46",
   "metadata": {
    "tags": []
   },
   "outputs": [],
   "source": [
    "data_source = {}\n",
    "\n",
    "asphere_plot = bokeh.plotting.figure(\n",
    "    plot_width=512,\n",
    "    plot_height=512,\n",
    "    match_aspect=True,\n",
    "    title=\"Sample 3a\",\n",
    ")\n",
    "asphere = ArmillarySphere(mjd=night.mjd, plot=asphere_plot)\n",
    "mjd_slider = asphere.add_mjd_slider()\n",
    "\n",
    "asphere.add_graticules()\n",
    "asphere.add_ecliptic()\n",
    "asphere.add_galactic_plane()\n",
    "data_source['horizon'] = asphere.add_horizon()\n",
    "data_source['high_X'] = asphere.add_horizon(zd=70, line_kwargs={\"color\": \"red\", \"line_width\": 2})\n",
    "\n",
    "psphere_plot = bokeh.plotting.figure(\n",
    "    plot_width=512,\n",
    "    plot_height=512,\n",
    "    match_aspect=True,\n",
    "    title=\"Sample 3b\",\n",
    ")\n",
    "psphere = Planisphere(mjd=night.mjd, plot=psphere_plot)\n",
    "psphere.add_graticules(graticule_kwargs={'min_decl': -80, 'max_decl': 80, 'decl_space': 20, 'min_ra': 0, 'max_ra': 360, 'ra_space': 30}, line_kwargs={'color': 'lightgray'})\n",
    "psphere.add_ecliptic()\n",
    "psphere.add_galactic_plane()\n",
    "psphere.add_horizon(data_source=data_source['horizon'])\n",
    "psphere.add_horizon(data_source=data_source['high_X'], line_kwargs={\"color\": \"red\", \"line_width\": 2})\n",
    "\n",
    "msphere_plot = bokeh.plotting.figure(\n",
    "    plot_width=1024,\n",
    "    plot_height=512,\n",
    "    match_aspect=False,\n",
    "    title=\"Sample 3c\",\n",
    ")\n",
    "msphere = MollweideMap(mjd=night.mjd, plot=msphere_plot)\n",
    "\n",
    "msphere.add_graticules(graticule_kwargs={'min_decl': -80, 'max_decl': 80, 'decl_space': 20, 'min_ra': 0, 'max_ra': 360, 'ra_space': 30}, line_kwargs={'color': 'lightgray'})\n",
    "# HACK to make the RA=180 graticule appear both on the left and right\n",
    "msphere.add_graticules(graticule_kwargs={'min_decl': -80, 'max_decl': 80, 'decl_space': 160, 'min_ra': 180-1e-6, 'max_ra': 180, 'ra_space': 30}, line_kwargs={'color': 'lightgray'})\n",
    "\n",
    "msphere.add_ecliptic()\n",
    "msphere.add_galactic_plane()\n",
    "msphere.add_horizon(data_source=data_source['horizon'])\n",
    "msphere.add_horizon(data_source=data_source['high_X'], line_kwargs={\"color\": \"red\", \"line_width\": 2})\n",
    "\n",
    "pn.Column(msphere.figure,\n",
    "          pn.Row(asphere.figure, psphere.figure))"
   ]
  },
  {
   "cell_type": "markdown",
   "id": "c4049de8-6e22-4101-a900-0760e8a2ea14",
   "metadata": {},
   "source": [
    "# Add the sun, moon, and stars"
   ]
  },
  {
   "cell_type": "markdown",
   "id": "0046c616-a926-41af-a716-1c60a2ef9d94",
   "metadata": {},
   "source": [
    "Use `astropy` to get the position of the sun and moon:"
   ]
  },
  {
   "cell_type": "code",
   "execution_count": null,
   "id": "5a3b5f60-2f8d-4c9a-9a44-fab495f922b3",
   "metadata": {
    "tags": []
   },
   "outputs": [],
   "source": [
    "sun_coords = astropy.coordinates.get_sun(night)\n",
    "moon_coords = astropy.coordinates.get_moon(night)\n",
    "sun_coords, moon_coords"
   ]
  },
  {
   "cell_type": "markdown",
   "id": "c2102e3c-c019-441e-9a81-bae8310b0939",
   "metadata": {},
   "source": [
    "Load the Yale bright star catalog:"
   ]
  },
  {
   "cell_type": "code",
   "execution_count": null,
   "id": "0492de54-b2ac-458e-9641-b1d15c0dcf9f",
   "metadata": {
    "tags": []
   },
   "outputs": [],
   "source": [
    "try:\n",
    "    stars = load_bright_stars()\n",
    "except FileNotFoundError:\n",
    "    stars = load_bright_stars('http://tdc-www.harvard.edu/catalogs/bsc5.dat.gz')\n",
    "    \n",
    "stars"
   ]
  },
  {
   "cell_type": "markdown",
   "id": "d1982da4-5ef6-41b6-9252-218339034570",
   "metadata": {},
   "source": [
    "This is way too many stars. Only consider the brightest:"
   ]
  },
  {
   "cell_type": "code",
   "execution_count": null,
   "id": "d18e70f1-5474-42b6-9d3e-21df88c32333",
   "metadata": {},
   "outputs": [],
   "source": [
    "stars.query('Vmag<3.5', inplace=True)"
   ]
  },
  {
   "cell_type": "markdown",
   "id": "147765d5-d15d-46a3-be4b-04f8bb4e590f",
   "metadata": {},
   "source": [
    "Now show the figure:"
   ]
  },
  {
   "cell_type": "code",
   "execution_count": null,
   "id": "33a8cdba-939b-4beb-ab35-f21c898983a4",
   "metadata": {
    "tags": []
   },
   "outputs": [],
   "source": [
    "asphere = ArmillarySphere(mjd=night.mjd)\n",
    "asphere.add_mjd_slider()\n",
    "asphere.add_graticules()\n",
    "asphere.add_ecliptic()\n",
    "asphere.add_galactic_plane()\n",
    "asphere.add_horizon()\n",
    "asphere.add_horizon(zd=70, line_kwargs={\"color\": \"red\", \"line_width\": 2})\n",
    "\n",
    "asphere.add_marker(sun_coords.ra.deg, sun_coords.dec.deg, name=\"Sun\", glyph_size=15, circle_kwargs={\"color\": \"brown\"})\n",
    "asphere.add_marker(moon_coords.ra.deg, moon_coords.dec.deg, name=\"Moon\", glyph_size=15, circle_kwargs={\"color\": \"orange\"})\n",
    "\n",
    "# Scale the size of the star markers with the magnitude of the stars\n",
    "stars[\"glyph_size\"] = 15 * (1.01 - stars['Vmag']/stars['Vmag'].max())\n",
    "\n",
    "# Actually add the stars\n",
    "asphere.add_stars(stars, mag_limit_slider=True, star_kwargs={\"color\": \"black\"})\n",
    "\n",
    "# Set the limit of the slider according to the stars we've included\n",
    "asphere.sliders['mag_limit'].end = stars['Vmag'].max()\n",
    "\n",
    "pn.Row(asphere.figure)"
   ]
  },
  {
   "cell_type": "markdown",
   "id": "e897f1fe-44ab-49c3-bedf-a1d4cc2155b9",
   "metadata": {},
   "source": [
    "# Horizon coordinates"
   ]
  },
  {
   "cell_type": "markdown",
   "id": "b52ea98c-6d16-4e47-a5ed-5bea22cca072",
   "metadata": {},
   "source": [
    "You can show a map in a horizon (az/alt polar) projection:"
   ]
  },
  {
   "cell_type": "code",
   "execution_count": null,
   "id": "548f8bd2-3fe9-4434-aeb1-b8921f45c9fa",
   "metadata": {
    "tags": []
   },
   "outputs": [],
   "source": [
    "hsphere = HorizonMap(mjd=night.mjd)\n",
    "hsphere.add_mjd_slider()\n",
    "hsphere.add_horizon_graticules()\n",
    "hsphere.add_horizon()\n",
    "hsphere.add_ecliptic()\n",
    "hsphere.add_galactic_plane()\n",
    "\n",
    "hsphere.add_marker(sun_coords.ra.deg, sun_coords.dec.deg, name=\"Sun\", glyph_size=15, circle_kwargs={\"color\": \"brown\"})\n",
    "hsphere.add_marker(moon_coords.ra.deg, moon_coords.dec.deg, name=\"Moon\", glyph_size=15, circle_kwargs={\"color\": \"orange\"})\n",
    "hsphere.add_stars(stars, mag_limit_slider=True, star_kwargs={\"color\": \"black\"})\n",
    "\n",
    "pn.Row(hsphere.figure)"
   ]
  },
  {
   "cell_type": "markdown",
   "id": "8a459ad0-0eb9-4d2e-ada3-b13c47940b26",
   "metadata": {},
   "source": [
    "You can show horizon graticules in any of the projections:"
   ]
  },
  {
   "cell_type": "code",
   "execution_count": null,
   "id": "e76b1824-6cd6-4d4c-82ca-9be7848296dd",
   "metadata": {
    "tags": []
   },
   "outputs": [],
   "source": [
    "asphere = ArmillarySphere(mjd=night.mjd)\n",
    "asphere.add_mjd_slider()\n",
    "asphere.add_graticules()\n",
    "asphere.add_ecliptic()\n",
    "asphere.add_galactic_plane()\n",
    "asphere.add_horizon_graticules(line_kwargs={'color': \"red\", 'line_dash': 'dotted'})\n",
    "pn.Row(asphere.figure)"
   ]
  },
  {
   "cell_type": "markdown",
   "id": "57429ef7-89ad-430e-b0a5-ecfdd140b03d",
   "metadata": {},
   "source": [
    "# Show a healpix map"
   ]
  },
  {
   "cell_type": "markdown",
   "id": "6d3a3fa0-5462-4e0f-8d11-177b8aa38a56",
   "metadata": {},
   "source": [
    "Get the healpix dust map from `rubin_sim` as an example healpix map."
   ]
  },
  {
   "cell_type": "code",
   "execution_count": null,
   "id": "89181297-5c50-403e-aee8-959610ac65be",
   "metadata": {
    "tags": []
   },
   "outputs": [],
   "source": [
    "dust = get_dustmap(nside=32)"
   ]
  },
  {
   "cell_type": "markdown",
   "id": "caf67741-e22a-4e4b-8101-abb45cdd432a",
   "metadata": {},
   "source": [
    "Make a `bokeh` color map:"
   ]
  },
  {
   "cell_type": "code",
   "execution_count": null,
   "id": "d2196559-2014-4f7d-9611-7a4242027da9",
   "metadata": {
    "tags": []
   },
   "outputs": [],
   "source": [
    "cmap = bokeh.transform.log_cmap(\n",
    "        'value', cc.palette['CET_L18'], np.quantile(dust, 0.75), np.quantile(dust, 0.99)\n",
    ")"
   ]
  },
  {
   "cell_type": "code",
   "execution_count": null,
   "id": "364620e5-71a0-4f74-adea-86d76a6df940",
   "metadata": {
    "tags": []
   },
   "outputs": [],
   "source": [
    "asphere = ArmillarySphere(mjd=night.mjd)\n",
    "asphere.add_healpix(dust, nside=32, cmap=cmap)\n",
    "asphere.add_graticules()\n",
    "asphere.add_ecliptic(color='lightgreen')\n",
    "asphere.add_galactic_plane(color='lightblue')\n",
    "pn.Row(asphere.figure)"
   ]
  },
  {
   "cell_type": "markdown",
   "id": "f0112fb8-ee73-472b-ae71-7275e1d4b366",
   "metadata": {},
   "source": [
    "# Show a healsparse map"
   ]
  },
  {
   "cell_type": "markdown",
   "id": "3417164d-8c0e-40f3-878f-4e71faa5fb45",
   "metadata": {},
   "source": [
    "At nsides greater than 32, interactivity can be sluggish. Sometimes you can reduce the number of pixels by only displaying some regions of the sky. For example, we can show only the high dust areas in the dust map above:"
   ]
  },
  {
   "cell_type": "code",
   "execution_count": null,
   "id": "f80c1f00-9593-4c4d-9dbb-c70b13479333",
   "metadata": {
    "tags": []
   },
   "outputs": [],
   "source": [
    "# Get a higher resolution healpix map\n",
    "dust64 = hp.reorder(get_dustmap(nside=64), inp=\"RING\", out=\"NESTED\")\n",
    "\n",
    "# Cut off any pixels lower than the bottom for our color map\n",
    "dust64[dust64<cmap['transform'].low] = hp.UNSEEN\n",
    "\n",
    "# Make a healsparse map with just the seen healpixel\n",
    "dust_hsp = hsp.HealSparseMap(nside_coverage=16, healpix_map=dust64)"
   ]
  },
  {
   "cell_type": "markdown",
   "id": "0f516747-6012-4d8e-861e-3cdb65712f0b",
   "metadata": {},
   "source": [
    "Make a color map such that low dust areas are near white, and thus fall to white as dust drops:"
   ]
  },
  {
   "cell_type": "code",
   "execution_count": null,
   "id": "7b63b2c8-cfb0-451e-b093-193944ff5c69",
   "metadata": {
    "tags": []
   },
   "outputs": [],
   "source": [
    "asphere = ArmillarySphere(mjd=night.mjd)\n",
    "asphere.add_healpix(dust_hsp, nside=64, cmap=cmap)\n",
    "asphere.add_graticules()\n",
    "asphere.add_ecliptic(color='lightgreen')\n",
    "asphere.add_galactic_plane(color='lightblue')\n",
    "pn.Row(asphere.figure)"
   ]
  },
  {
   "cell_type": "markdown",
   "id": "cf48ff72-1dfd-4279-b85b-166919b7d8f9",
   "metadata": {
    "execution": {
     "iopub.execute_input": "2023-04-24T19:58:39.400081Z",
     "iopub.status.busy": "2023-04-24T19:58:39.399848Z",
     "iopub.status.idle": "2023-04-24T19:58:39.402451Z",
     "shell.execute_reply": "2023-04-24T19:58:39.402013Z",
     "shell.execute_reply.started": "2023-04-24T19:58:39.400062Z"
    },
    "tags": []
   },
   "source": [
    "# Survey footprint"
   ]
  },
  {
   "cell_type": "markdown",
   "id": "5c673a62-be4d-4cfd-a9b0-418bc920cd29",
   "metadata": {},
   "source": [
    "Get the final target survey footprint:"
   ]
  },
  {
   "cell_type": "code",
   "execution_count": null,
   "id": "0394579d-f66a-4833-8749-9ce23739fa89",
   "metadata": {
    "tags": []
   },
   "outputs": [],
   "source": [
    "nside = 64\n",
    "sky_area_generator = SkyAreaGenerator(nside=nside)\n",
    "footprint, footprint_pix_labels = sky_area_generator.return_maps()"
   ]
  },
  {
   "cell_type": "markdown",
   "id": "9c171d9c-134b-48c2-ba75-b8efc55084af",
   "metadata": {},
   "source": [
    "Split the desired footprint between edges between regions, which we will show using the full nside healsparse map, and a lower-nside healsparse map on large uniform areas:"
   ]
  },
  {
   "cell_type": "code",
   "execution_count": null,
   "id": "4ef74b2b-fe5c-4908-934b-11ecce128562",
   "metadata": {
    "tags": []
   },
   "outputs": [],
   "source": [
    "low_nside = 16\n",
    "this_footprint = footprint['g'].copy()\n",
    "this_footprint[this_footprint==0] = hp.UNSEEN\n",
    "footprint_high, footprint_low = split_healpix_by_resolution(\n",
    "        this_footprint, low_nside, nside\n",
    "    )"
   ]
  },
  {
   "cell_type": "code",
   "execution_count": null,
   "id": "f8cc36ee-b8d3-42b3-b6d8-29c790751723",
   "metadata": {
    "tags": []
   },
   "outputs": [],
   "source": [
    "asphere = ArmillarySphere(mjd=night.mjd)\n",
    "\n",
    "cmap = bokeh.transform.linear_cmap(\n",
    "        'value', cc.palette['rainbow4'], 0, 1\n",
    ")\n",
    "\n",
    "asphere.add_healpix(footprint_high, nside=nside, cmap=cmap)\n",
    "asphere.add_healpix(footprint_low, nside=low_nside, cmap=cmap)\n",
    "asphere.add_graticules()\n",
    "asphere.add_ecliptic(color='lightgreen')\n",
    "asphere.add_galactic_plane(color='lightblue')\n",
    "pn.Row(asphere.figure)"
   ]
  },
  {
   "cell_type": "markdown",
   "id": "9a9e8511-ed77-4e65-93fc-7a333c0880fa",
   "metadata": {},
   "source": [
    "# Arbitrary bokeh\n",
    "\n",
    "<span style=\"color:red; font-size:x-large\">A planned refactor of `spheremap` will result in a change in the API used in this section</span>\n",
    "\n",
    "See PREOPS-3405."
   ]
  },
  {
   "cell_type": "markdown",
   "id": "ba4290eb-5ffb-46fb-817f-c03df07917a1",
   "metadata": {},
   "source": [
    "## Data sources with point locations"
   ]
  },
  {
   "cell_type": "markdown",
   "id": "a8877108-80e7-4003-9bbe-b30bcba1d027",
   "metadata": {},
   "source": [
    "Use `asphere.make_points` to create the data source.\n",
    "\n",
    "The `plot` member of `SphereMap` and its children (`ArmillarySphere`, etc.) is just a normal `bokeh.plotting.Figure`.\n",
    "\n",
    "The `make_points` method of any of these objects generate a `bokeh.models.ColumnDataSource` with columns with the coordinates on the projection plane for the different projections. A client-side javascript callback updates these columns as necessary. The `x_col` and `y_col` members of `SphereMap`'s children hold the names of the columns that have the `x` and `y` coordinates in the projection plane.\n",
    "\n",
    "So, to plot on the projection plane using any of the varous methods of `bokeh.plotting.Figure` that take single sets of coordinates for each value, create the appropriate data source using `make_points`, and call the appropriate member of"
   ]
  },
  {
   "cell_type": "code",
   "execution_count": null,
   "id": "1f547ba3-7d8b-47df-afba-5fa0d0607424",
   "metadata": {
    "tags": []
   },
   "outputs": [],
   "source": [
    "npoints = 100\n",
    "sample_df = pd.DataFrame({\n",
    "    'name': 'sample',\n",
    "    'glyph_size': 10,\n",
    "    'ra': np.random.random(npoints)*360,\n",
    "    'decl': np.random.random(npoints)*180 - 90\n",
    "})\n",
    "asphere = ArmillarySphere(mjd=night.mjd)\n",
    "\n",
    "sample_ds = asphere.make_points(sample_df)\n",
    "asphere.plot.asterisk(asphere.x_col, asphere.y_col, size='glyph_size', source=sample_ds)\n",
    "asphere.add_graticules()\n",
    "asphere.add_ecliptic(color='lightgreen')\n",
    "asphere.add_galactic_plane(color='lightblue')\n",
    "pn.Row(asphere.figure)"
   ]
  },
  {
   "cell_type": "markdown",
   "id": "8118911b-306e-4a5b-9757-8258b995b65c",
   "metadata": {},
   "source": [
    "## Data sources with paths"
   ]
  },
  {
   "cell_type": "markdown",
   "id": "959c82f0-ea1a-4380-bc58-cfde90b59923",
   "metadata": {},
   "source": [
    "Use `asphere.make_patches_data_source` to create the data source."
   ]
  },
  {
   "cell_type": "code",
   "execution_count": null,
   "id": "786bf14f-c768-4462-b582-64a38739eaf0",
   "metadata": {},
   "outputs": [],
   "source": [
    "npoints = 25\n",
    "sample_df = pd.DataFrame({\n",
    "    'name': 'sample',\n",
    "    'glyph_size': 10,\n",
    "    'center_ra': np.random.random(npoints)*360,\n",
    "    'center_decl': np.random.random(npoints)*180 - 90,\n",
    "    'rotation': 180*np.random.random(npoints)\n",
    "})\n",
    "\n",
    "camera_perimeter = LsstCameraFootprintPerimeter()\n",
    "ras, decls = camera_perimeter(\n",
    "            sample_df.center_ra, sample_df.center_decl, sample_df.rotation\n",
    "        )\n",
    "sample_df['ra'] = ras\n",
    "sample_df['decl'] = decls\n",
    "sample_df.head()"
   ]
  },
  {
   "cell_type": "code",
   "execution_count": null,
   "id": "88ff5309-4917-4c5d-bcee-e2571db025de",
   "metadata": {},
   "outputs": [],
   "source": [
    "asphere = ArmillarySphere(mjd=night.mjd)\n",
    "sample_ds = asphere.make_patches_data_source(sample_df)\n",
    "asphere.plot.patches(xs=asphere.x_col,\n",
    "            ys=asphere.y_col,\n",
    "            source=sample_ds,\n",
    "            line_color='blue',\n",
    "            fill_color='red',\n",
    "            fill_alpha=0.2\n",
    "        )\n",
    "asphere.add_graticules()\n",
    "asphere.add_ecliptic(color='lightgreen')\n",
    "asphere.add_galactic_plane(color='lightblue')\n",
    "pn.Row(asphere.figure)"
   ]
  },
  {
   "cell_type": "markdown",
   "id": "335bc95a-a1cf-4366-b2b9-c3d027907627",
   "metadata": {},
   "source": [
    "The end."
   ]
  },
  {
   "cell_type": "code",
   "execution_count": null,
   "id": "23efbfc1-2c82-47b8-a503-0cf380d8465a",
   "metadata": {},
   "outputs": [],
   "source": []
  }
 ],
 "metadata": {
  "kernelspec": {
   "display_name": "ehn310",
   "language": "python",
   "name": "ehn310"
  },
  "language_info": {
   "codemirror_mode": {
    "name": "ipython",
    "version": 3
   },
   "file_extension": ".py",
   "mimetype": "text/x-python",
   "name": "python",
   "nbconvert_exporter": "python",
   "pygments_lexer": "ipython3",
   "version": "3.10.6"
  }
 },
 "nbformat": 4,
 "nbformat_minor": 5
}
