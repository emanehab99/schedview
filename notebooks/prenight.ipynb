{
 "cells": [
  {
   "cell_type": "markdown",
   "id": "f7ab0a55-4966-4caf-8c59-3d62fa97c859",
   "metadata": {},
   "source": [
    "# Running the pre-night briefing dashboard within a notebook"
   ]
  },
  {
   "cell_type": "markdown",
   "id": "af9d7773-c301-4b9b-b0a1-1c9e4c8610cd",
   "metadata": {},
   "source": [
    "## Notebook perparation"
   ]
  },
  {
   "cell_type": "markdown",
   "id": "47f2dccd-39f0-4c6a-ae3c-af4a3a865373",
   "metadata": {},
   "source": [
    "### Load jupyter extensions"
   ]
  },
  {
   "cell_type": "code",
   "execution_count": null,
   "id": "4d155494-c0a5-4fdb-8031-4f5ceb7d7395",
   "metadata": {},
   "outputs": [],
   "source": [
    "%load_ext lab_black\n",
    "%load_ext autoreload\n",
    "%autoreload 1"
   ]
  },
  {
   "cell_type": "markdown",
   "id": "8b8d23b2-5f83-4598-b080-5d346bd599e3",
   "metadata": {},
   "source": [
    "### Imports\n",
    "\n",
    "Use `aimport` for `schedview` imports for ease of debugging."
   ]
  },
  {
   "cell_type": "code",
   "execution_count": null,
   "id": "c448f750-c648-4024-8678-a0b031ce6e1e",
   "metadata": {
    "tags": []
   },
   "outputs": [],
   "source": [
    "import warnings\n",
    "import panel as pn"
   ]
  },
  {
   "cell_type": "code",
   "execution_count": null,
   "id": "20e41df3-f40a-4a61-b44b-503be2e27cca",
   "metadata": {
    "tags": []
   },
   "outputs": [],
   "source": [
    "from astropy.time import Time, TimeDelta"
   ]
  },
  {
   "cell_type": "code",
   "execution_count": null,
   "id": "5e9a6ca1-1a78-4fcd-91a5-23554e045430",
   "metadata": {
    "tags": []
   },
   "outputs": [],
   "source": [
    "from rubin_sim.scheduler.example import example_scheduler\n",
    "from rubin_sim.scheduler import sim_runner\n",
    "from rubin_sim.scheduler.model_observatory import ModelObservatory"
   ]
  },
  {
   "cell_type": "code",
   "execution_count": null,
   "id": "384e7112-dd5b-481f-9940-607184c898c1",
   "metadata": {},
   "outputs": [],
   "source": [
    "%aimport schedview\n",
    "%aimport schedview.app.prenight"
   ]
  },
  {
   "cell_type": "code",
   "execution_count": null,
   "id": "2ac473e0-eac2-4566-8955-628675df90af",
   "metadata": {
    "tags": []
   },
   "outputs": [],
   "source": [
    "# from schedview.app.prenight import prenight_app"
   ]
  },
  {
   "cell_type": "markdown",
   "id": "4bb6e2dc-28d7-4f0c-b47a-1b193bbc0c38",
   "metadata": {},
   "source": [
    "### Further preparation of the notebook"
   ]
  },
  {
   "cell_type": "code",
   "execution_count": null,
   "id": "f89baf7b-f8f7-4e6d-b0dd-34a3044817f7",
   "metadata": {
    "tags": []
   },
   "outputs": [],
   "source": [
    "pn.extension()"
   ]
  },
  {
   "cell_type": "markdown",
   "id": "c66be7e2-51cb-4c70-883d-e149f8a7cd08",
   "metadata": {},
   "source": [
    "### Filter warnings\n",
    "\n",
    "Several dependencies throw prodigious instances of (benign) warnings.\n",
    "Suppress them to avoid poluting the executed notebook."
   ]
  },
  {
   "cell_type": "code",
   "execution_count": null,
   "id": "b2f12164-0b3b-49d7-9237-7b480531abbd",
   "metadata": {
    "tags": []
   },
   "outputs": [],
   "source": [
    "warnings.filterwarnings(\n",
    "    \"ignore\",\n",
    "    module=\"astropy.time\",\n",
    "    message=\"Numerical value without unit or explicit format passed to TimeDelta, assuming days\",\n",
    ")\n",
    "warnings.filterwarnings(\n",
    "    \"ignore\",\n",
    "    module=\"pandas\",\n",
    "    message=\"In a future version of pandas, a length 1 tuple will be returned when iterating over a groupby with a grouper equal to a list of length 1. Don't supply a list with a single grouper to avoid this warning.\",\n",
    ")\n",
    "warnings.filterwarnings(\n",
    "    \"ignore\",\n",
    "    module=\"healpy\",\n",
    "    message=\"divide by zero encountered in divide\",\n",
    ")\n",
    "warnings.filterwarnings(\n",
    "    \"ignore\",\n",
    "    module=\"healpy\",\n",
    "    message=\"invalid value encountered in multiply\",\n",
    ")\n",
    "warnings.filterwarnings(\n",
    "    \"ignore\",\n",
    "    module=\"holoviews\",\n",
    "    message=\"Discarding nonzero nanoseconds in conversion.\",\n",
    ")\n",
    "warnings.filterwarnings(\n",
    "    \"ignore\",\n",
    "    module=\"rubin_sim\",\n",
    "    message=\"invalid value encountered in arcsin\",\n",
    ")\n",
    "warnings.filterwarnings(\n",
    "    \"ignore\",\n",
    "    module=\"rubin_sim\",\n",
    "    message=\"All-NaN slice encountered\",\n",
    ")"
   ]
  },
  {
   "cell_type": "markdown",
   "id": "16a6ab95-c37f-4eaa-92fb-b742cfc538c5",
   "metadata": {},
   "source": [
    "## Configuration and initial configuration"
   ]
  },
  {
   "cell_type": "markdown",
   "id": "e21a7b40-d718-4329-8b01-36ecd48b3f4a",
   "metadata": {},
   "source": [
    "Setting `keep_rewards` to `True` results in a dashboard that includes plots of rewards."
   ]
  },
  {
   "cell_type": "code",
   "execution_count": null,
   "id": "03779a6b-0672-4817-8bcd-045dae9ba24c",
   "metadata": {
    "tags": []
   },
   "outputs": [],
   "source": [
    "keep_rewards = True"
   ]
  },
  {
   "cell_type": "markdown",
   "id": "3a63ca50-a5e1-4a6c-8dc9-0253f4df80a3",
   "metadata": {},
   "source": [
    "Set the start date, scheduler, and observatory for the night:"
   ]
  },
  {
   "cell_type": "code",
   "execution_count": null,
   "id": "8e6021a2-ec2b-4196-bd39-99dce4bdf2c6",
   "metadata": {},
   "outputs": [],
   "source": [
    "mjd_start = ModelObservatory().mjd_start"
   ]
  },
  {
   "cell_type": "code",
   "execution_count": null,
   "id": "8d6febc7-3b39-4f59-9c2a-bb8d6498ecf4",
   "metadata": {},
   "outputs": [],
   "source": [
    "survey_length = 1.0  # days\n",
    "scheduler = example_scheduler()\n",
    "observatory = ModelObservatory(mjd_start=mjd_start)"
   ]
  },
  {
   "cell_type": "markdown",
   "id": "fecdf1fb-1d05-4433-a756-0605355c3a93",
   "metadata": {},
   "source": [
    "## Run a simulation and create the app instance"
   ]
  },
  {
   "cell_type": "markdown",
   "id": "5596ff14-86c5-46dc-a523-593107dbc1df",
   "metadata": {},
   "source": [
    "For this example, simulate starting the default first day of observing:"
   ]
  },
  {
   "cell_type": "code",
   "execution_count": null,
   "id": "1356fb83-51ab-4ccd-9147-134d91db7419",
   "metadata": {},
   "outputs": [],
   "source": [
    "if not keep_rewards:\n",
    "    observatory, scheduler, observations = sim_runner(\n",
    "        observatory, scheduler, mjd_start=mjd_start, survey_length=survey_length\n",
    "    )\n",
    "    app = schedview.app.prenight.prenight_app(observatory, scheduler, observations)\n",
    "else:\n",
    "    scheduler.keep_rewards = True\n",
    "    observatory, scheduler, observations, reward_df, obs_rewards = sim_runner(\n",
    "        observatory,\n",
    "        scheduler,\n",
    "        mjd_start=mjd_start,\n",
    "        survey_length=survey_length,\n",
    "        record_rewards=True,\n",
    "    )\n",
    "    app = schedview.app.prenight.prenight_app(\n",
    "        observatory,\n",
    "        scheduler,\n",
    "        observations,\n",
    "        reward_df=reward_df,\n",
    "        obs_rewards=obs_rewards,\n",
    "    )"
   ]
  },
  {
   "cell_type": "markdown",
   "id": "2cb29a00-3857-4179-906e-5feb93662cd3",
   "metadata": {},
   "source": [
    "## Display the dashboard"
   ]
  },
  {
   "cell_type": "markdown",
   "id": "576838fd-8414-4695-8414-c2f078b2e53f",
   "metadata": {},
   "source": [
    "Let's look at the last (and only) full night we simulated:"
   ]
  },
  {
   "cell_type": "code",
   "execution_count": null,
   "id": "b91eaf36-50da-4fe3-9bf3-f073771c1490",
   "metadata": {
    "tags": []
   },
   "outputs": [],
   "source": [
    "app = schedview.app.prenight.prenight_app(\n",
    "    observatory,\n",
    "    scheduler,\n",
    "    observations,\n",
    "    reward_df=reward_df,\n",
    "    obs_rewards=obs_rewards,\n",
    ")"
   ]
  },
  {
   "cell_type": "code",
   "execution_count": null,
   "id": "153a3969-e63b-42fb-bfff-49dd0b9a44f2",
   "metadata": {
    "tags": []
   },
   "outputs": [],
   "source": [
    "app"
   ]
  },
  {
   "cell_type": "code",
   "execution_count": null,
   "id": "9821ebdc-9e11-44ee-ad4b-54749ed54d1b",
   "metadata": {},
   "outputs": [],
   "source": []
  },
  {
   "cell_type": "code",
   "execution_count": null,
   "id": "3137523a-e261-4bfd-a32e-439739736b0f",
   "metadata": {},
   "outputs": [],
   "source": []
  }
 ],
 "metadata": {
  "kernelspec": {
   "display_name": "ehn310",
   "language": "python",
   "name": "ehn310"
  },
  "language_info": {
   "codemirror_mode": {
    "name": "ipython",
    "version": 3
   },
   "file_extension": ".py",
   "mimetype": "text/x-python",
   "name": "python",
   "nbconvert_exporter": "python",
   "pygments_lexer": "ipython3",
   "version": "3.10.6"
  },
  "vscode": {
   "interpreter": {
    "hash": "8f716438b432a9cce0d1718507c983c697ec5d817d7dabcbee39092aa596e59c"
   }
  }
 },
 "nbformat": 4,
 "nbformat_minor": 5
}
