{
 "cells": [
  {
   "cell_type": "markdown",
   "id": "f7ab0a55-4966-4caf-8c59-3d62fa97c859",
   "metadata": {},
   "source": [
    "# Running the pre-night briefing dashboard within a notebook"
   ]
  },
  {
   "cell_type": "markdown",
   "id": "af9d7773-c301-4b9b-b0a1-1c9e4c8610cd",
   "metadata": {},
   "source": [
    "## Notebook perparation"
   ]
  },
  {
   "cell_type": "markdown",
   "id": "47f2dccd-39f0-4c6a-ae3c-af4a3a865373",
   "metadata": {},
   "source": [
    "### Load jupyter extensions"
   ]
  },
  {
   "cell_type": "code",
   "execution_count": null,
   "id": "4d155494-c0a5-4fdb-8031-4f5ceb7d7395",
   "metadata": {},
   "outputs": [],
   "source": [
    "%load_ext lab_black\n",
    "%load_ext autoreload\n",
    "%autoreload 1"
   ]
  },
  {
   "cell_type": "markdown",
   "id": "8b8d23b2-5f83-4598-b080-5d346bd599e3",
   "metadata": {},
   "source": [
    "### Imports\n",
    "\n",
    "Use `aimport` for `schedview` imports for ease of debugging."
   ]
  },
  {
   "cell_type": "code",
   "execution_count": null,
   "id": "c448f750-c648-4024-8678-a0b031ce6e1e",
   "metadata": {
    "tags": []
   },
   "outputs": [],
   "source": [
    "import warnings\n",
    "import panel as pn"
   ]
  },
  {
   "cell_type": "code",
   "execution_count": null,
   "id": "2ac473e0-eac2-4566-8955-628675df90af",
   "metadata": {
    "tags": []
   },
   "outputs": [],
   "source": [
    "from schedview.app.prenight import prenight_app"
   ]
  },
  {
   "cell_type": "markdown",
   "id": "4bb6e2dc-28d7-4f0c-b47a-1b193bbc0c38",
   "metadata": {},
   "source": [
    "### Further preparation of the notebook"
   ]
  },
  {
   "cell_type": "code",
   "execution_count": null,
   "id": "f89baf7b-f8f7-4e6d-b0dd-34a3044817f7",
   "metadata": {
    "tags": []
   },
   "outputs": [],
   "source": [
    "pn.extension()"
   ]
  },
  {
   "cell_type": "markdown",
   "id": "c66be7e2-51cb-4c70-883d-e149f8a7cd08",
   "metadata": {},
   "source": [
    "### Filter warnings\n",
    "\n",
    "Several dependencies throw prodigious instances of (benign) warnings.\n",
    "Suppress them to avoid poluting the executed notebook."
   ]
  },
  {
   "cell_type": "code",
   "execution_count": null,
   "id": "b2f12164-0b3b-49d7-9237-7b480531abbd",
   "metadata": {
    "tags": []
   },
   "outputs": [],
   "source": [
    "warnings.filterwarnings(\n",
    "    \"ignore\",\n",
    "    module=\"astropy.time\",\n",
    "    message=\"Numerical value without unit or explicit format passed to TimeDelta, assuming days\",\n",
    ")\n",
    "warnings.filterwarnings(\n",
    "    \"ignore\",\n",
    "    module=\"pandas\",\n",
    "    message=\"In a future version of pandas, a length 1 tuple will be returned when iterating over a groupby with a grouper equal to a list of length 1. Don't supply a list with a single grouper to avoid this warning.\",\n",
    ")\n",
    "warnings.filterwarnings(\n",
    "    \"ignore\",\n",
    "    module=\"healpy\",\n",
    "    message=\"divide by zero encountered in divide\",\n",
    ")\n",
    "warnings.filterwarnings(\n",
    "    \"ignore\",\n",
    "    module=\"healpy\",\n",
    "    message=\"invalid value encountered in multiply\",\n",
    ")\n",
    "warnings.filterwarnings(\n",
    "    \"ignore\",\n",
    "    module=\"holoviews\",\n",
    "    message=\"Discarding nonzero nanoseconds in conversion.\",\n",
    ")\n",
    "warnings.filterwarnings(\n",
    "    \"ignore\",\n",
    "    module=\"rubin_sim\",\n",
    "    message=\"invalid value encountered in arcsin\",\n",
    ")\n",
    "warnings.filterwarnings(\n",
    "    \"ignore\",\n",
    "    module=\"rubin_sim\",\n",
    "    message=\"All-NaN slice encountered\",\n",
    ")"
   ]
  },
  {
   "cell_type": "markdown",
   "id": "2cb29a00-3857-4179-906e-5feb93662cd3",
   "metadata": {},
   "source": [
    "## Create the dashboard"
   ]
  },
  {
   "cell_type": "code",
   "execution_count": null,
   "id": "4ec58b90-78b5-4eb0-ad07-2c5c144bbe12",
   "metadata": {
    "tags": []
   },
   "outputs": [],
   "source": [
    "app = prenight_app()"
   ]
  },
  {
   "cell_type": "code",
   "execution_count": null,
   "id": "153a3969-e63b-42fb-bfff-49dd0b9a44f2",
   "metadata": {
    "tags": []
   },
   "outputs": [],
   "source": [
    "app"
   ]
  },
  {
   "cell_type": "code",
   "execution_count": null,
   "id": "b92f57ed-0efa-4fe3-b3a4-41b96b1a8374",
   "metadata": {},
   "outputs": [],
   "source": []
  }
 ],
 "metadata": {
  "kernelspec": {
   "display_name": "ehn310",
   "language": "python",
   "name": "ehn310"
  },
  "language_info": {
   "codemirror_mode": {
    "name": "ipython",
    "version": 3
   },
   "file_extension": ".py",
   "mimetype": "text/x-python",
   "name": "python",
   "nbconvert_exporter": "python",
   "pygments_lexer": "ipython3",
   "version": "3.10.6"
  },
  "vscode": {
   "interpreter": {
    "hash": "8f716438b432a9cce0d1718507c983c697ec5d817d7dabcbee39092aa596e59c"
   }
  }
 },
 "nbformat": 4,
 "nbformat_minor": 5
}
