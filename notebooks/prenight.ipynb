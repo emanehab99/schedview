{
 "cells": [
  {
   "cell_type": "markdown",
   "id": "f7ab0a55-4966-4caf-8c59-3d62fa97c859",
   "metadata": {},
   "source": [
    "# Example dashboard elements for pre-night briefing"
   ]
  },
  {
   "cell_type": "markdown",
   "id": "af9d7773-c301-4b9b-b0a1-1c9e4c8610cd",
   "metadata": {},
   "source": [
    "## Notebook perparation"
   ]
  },
  {
   "cell_type": "markdown",
   "id": "47f2dccd-39f0-4c6a-ae3c-af4a3a865373",
   "metadata": {},
   "source": [
    "### Load jupyter extensions"
   ]
  },
  {
   "cell_type": "code",
   "execution_count": null,
   "id": "4d155494-c0a5-4fdb-8031-4f5ceb7d7395",
   "metadata": {},
   "outputs": [],
   "source": [
    "%load_ext lab_black\n",
    "%load_ext autoreload\n",
    "%autoreload 1"
   ]
  },
  {
   "cell_type": "markdown",
   "id": "8b8d23b2-5f83-4598-b080-5d346bd599e3",
   "metadata": {},
   "source": [
    "### Imports\n",
    "\n",
    "Use `aimport` for `schedview` imports for ease of debugging."
   ]
  },
  {
   "cell_type": "code",
   "execution_count": null,
   "id": "4307ebb5-c393-414f-b54e-3553b0539190",
   "metadata": {
    "tags": []
   },
   "outputs": [],
   "source": [
    "import warnings\n",
    "from tempfile import TemporaryDirectory\n",
    "\n",
    "import numpy as np\n",
    "import panel as pn\n",
    "import holoviews as hv\n",
    "import hvplot\n",
    "import hvplot.pandas\n",
    "import bokeh.models.layouts\n",
    "\n",
    "from astropy.time import Time\n",
    "\n",
    "import rubin_sim\n",
    "from rubin_sim.scheduler.model_observatory import ModelObservatory"
   ]
  },
  {
   "cell_type": "code",
   "execution_count": null,
   "id": "945b1ddf-bc58-467e-bd75-f589b7aa3baa",
   "metadata": {
    "tags": []
   },
   "outputs": [],
   "source": [
    "%aimport schedview.compute.astro\n",
    "%aimport schedview.collect.opsim\n",
    "%aimport schedview.compute.scheduler\n",
    "%aimport schedview.collect.footprint\n",
    "%aimport schedview.plot.visitmap\n",
    "%aimport schedview.plot.rewards\n",
    "%aimport schedview.plot.visits\n",
    "%aimport schedview.plot.maf"
   ]
  },
  {
   "cell_type": "markdown",
   "id": "4bb6e2dc-28d7-4f0c-b47a-1b193bbc0c38",
   "metadata": {},
   "source": [
    "### Further preparation of the notebook"
   ]
  },
  {
   "cell_type": "code",
   "execution_count": null,
   "id": "f89baf7b-f8f7-4e6d-b0dd-34a3044817f7",
   "metadata": {
    "tags": []
   },
   "outputs": [],
   "source": [
    "pn.extension()"
   ]
  },
  {
   "cell_type": "markdown",
   "id": "12ce2c8e-06d1-4359-9481-4b82ecbc8264",
   "metadata": {},
   "source": [
    "We need to load the `gpu.js` library used for the interactive projection explicitly."
   ]
  },
  {
   "cell_type": "code",
   "execution_count": null,
   "id": "2bd5fa5c-7284-49c9-b337-5eaffc8955b9",
   "metadata": {},
   "outputs": [],
   "source": [
    "%%html\n",
    "<script src=\"https://unpkg.com/gpu.js@latest/dist/gpu-browser.min.js\"></script>"
   ]
  },
  {
   "cell_type": "markdown",
   "id": "c66be7e2-51cb-4c70-883d-e149f8a7cd08",
   "metadata": {},
   "source": [
    "### Filter warnings\n",
    "\n",
    "Several dependencies throw prodigious instances of (benign) warnings.\n",
    "Suppress them to avoid poluting the executed notebook."
   ]
  },
  {
   "cell_type": "code",
   "execution_count": null,
   "id": "b2f12164-0b3b-49d7-9237-7b480531abbd",
   "metadata": {},
   "outputs": [],
   "source": [
    "warnings.filterwarnings(\n",
    "    \"ignore\",\n",
    "    module=\"astropy.time\",\n",
    "    message=\"Numerical value without unit or explicit format passed to TimeDelta, assuming days\",\n",
    ")\n",
    "warnings.filterwarnings(\n",
    "    \"ignore\",\n",
    "    module=\"pandas\",\n",
    "    message=\"In a future version of pandas, a length 1 tuple will be returned when iterating over a groupby with a grouper equal to a list of length 1. Don't supply a list with a single grouper to avoid this warning.\",\n",
    ")\n",
    "warnings.filterwarnings(\n",
    "    \"ignore\",\n",
    "    module=\"healpy\",\n",
    "    message=\"divide by zero encountered in divide\",\n",
    ")\n",
    "warnings.filterwarnings(\n",
    "    \"ignore\",\n",
    "    module=\"healpy\",\n",
    "    message=\"invalid value encountered in multiply\",\n",
    ")\n",
    "warnings.filterwarnings(\n",
    "    \"ignore\",\n",
    "    module=\"holoviews\",\n",
    "    message=\"Discarding nonzero nanoseconds in conversion.\",\n",
    ")\n",
    "warnings.filterwarnings(\n",
    "    \"ignore\",\n",
    "    module=\"rubin_sim\",\n",
    "    message=\"invalid value encountered in arcsin\",\n",
    ")\n",
    "warnings.filterwarnings(\n",
    "    \"ignore\",\n",
    "    module=\"rubin_sim\",\n",
    "    message=\"All-NaN slice encountered\",\n",
    ")"
   ]
  },
  {
   "cell_type": "markdown",
   "id": "937b577a-631c-4b97-bbfc-ff2b78d4581f",
   "metadata": {},
   "source": [
    "## Notebook configuration\n",
    "\n",
    "Sets the particulars for the night to be previewed."
   ]
  },
  {
   "cell_type": "code",
   "execution_count": null,
   "id": "c2b26262-674e-42fd-892e-b5b0624d0fcf",
   "metadata": {},
   "outputs": [],
   "source": [
    "SCHEDULER_FNAME = (\n",
    "    \"/home/n/neilsen/devel/schedview/schedview/data/scheduler1_sample.pickle.gz\"\n",
    ")\n",
    "OPSIM_OUTPUT_FNAME = rubin_sim.data.get_baseline()\n",
    "NIGHT = Time(\"2023-10-04\", scale=\"utc\")\n",
    "TIMEZONE = \"Chile/Continental\"\n",
    "OBSERVATORY = ModelObservatory()\n",
    "SITE = OBSERVATORY.location"
   ]
  },
  {
   "cell_type": "markdown",
   "id": "6671b801-c501-42aa-9b3f-cbf9a19b04c9",
   "metadata": {},
   "source": [
    "## Create each element of the dashboard"
   ]
  },
  {
   "cell_type": "markdown",
   "id": "825b6c2a-d4d9-449b-a753-05ddb8927a64",
   "metadata": {},
   "source": [
    "### The table of astronomical events\n",
    "\n",
    "Currently, this just returns a raw `pandas.DataFrame` with the data, which `panel` knows how to display.\n",
    "\n",
    "If another tool is used, this may be altered to create the corresponding bokeh model explicitly."
   ]
  },
  {
   "cell_type": "code",
   "execution_count": null,
   "id": "4e4067bf-cce5-47e7-9220-11251a3db25e",
   "metadata": {},
   "outputs": [],
   "source": [
    "astro_events = schedview.compute.astro.night_events(NIGHT, SITE, TIMEZONE)\n",
    "type(astro_events)"
   ]
  },
  {
   "cell_type": "markdown",
   "id": "80d052e6-e264-4f8f-a46c-7b0fae7bb5ac",
   "metadata": {},
   "source": [
    "### Plot with the rewards for each survey"
   ]
  },
  {
   "cell_type": "code",
   "execution_count": null,
   "id": "f1101c87-ae05-4bda-bf69-ecb106c865e3",
   "metadata": {},
   "outputs": [],
   "source": [
    "(\n",
    "    night_rewards_plot,\n",
    "    night_rewards_data,\n",
    ") = schedview.plot.rewards.create_survey_reward_plot(\n",
    "    scheduler=SCHEDULER_FNAME,\n",
    "    night_date=NIGHT,\n",
    "    additional_visits=OPSIM_OUTPUT_FNAME,\n",
    ")"
   ]
  },
  {
   "cell_type": "code",
   "execution_count": null,
   "id": "0ac345bd-d1cf-4738-a8cf-32742f47c1fa",
   "metadata": {},
   "outputs": [],
   "source": [
    "isinstance(night_rewards_plot, bokeh.models.layouts.LayoutDOM)"
   ]
  },
  {
   "cell_type": "markdown",
   "id": "3282ef7e-047e-46f9-87f3-34ad63424fc8",
   "metadata": {},
   "source": [
    "### Use the `hvplot.explorer` to show simulated visits"
   ]
  },
  {
   "cell_type": "code",
   "execution_count": null,
   "id": "f07f1409-845e-4466-b842-bcb0b40506e9",
   "metadata": {},
   "outputs": [],
   "source": [
    "visit_explorer, visit_explorer_data = schedview.plot.visits.create_visit_explorer(\n",
    "    visits=OPSIM_OUTPUT_FNAME,\n",
    "    night_date=NIGHT,\n",
    ")\n",
    "type(visit_explorer)"
   ]
  },
  {
   "cell_type": "markdown",
   "id": "5662945d-9e59-4fb3-b001-bebd590b2913",
   "metadata": {},
   "source": [
    "### Create interactive sky maps showing visits"
   ]
  },
  {
   "cell_type": "code",
   "execution_count": null,
   "id": "3ba3909b-ca17-452b-8183-240ead191be7",
   "metadata": {},
   "outputs": [],
   "source": [
    "vmap, vmap_data = schedview.plot.visitmap.create_visit_skymaps(\n",
    "    visits=OPSIM_OUTPUT_FNAME,\n",
    "    scheduler=SCHEDULER_FNAME,\n",
    "    night_date=NIGHT,\n",
    "    timezone=TIMEZONE,\n",
    "    observatory=OBSERVATORY,\n",
    ")"
   ]
  },
  {
   "cell_type": "code",
   "execution_count": null,
   "id": "40d2081d-639f-4e40-a877-6bc521297424",
   "metadata": {},
   "outputs": [],
   "source": [
    "isinstance(vmap, bokeh.models.layouts.LayoutDOM)"
   ]
  },
  {
   "cell_type": "markdown",
   "id": "93c58e6a-d139-4f62-af04-f9be85480095",
   "metadata": {
    "execution": {
     "iopub.execute_input": "2022-12-14T19:35:29.141050Z",
     "iopub.status.busy": "2022-12-14T19:35:29.140798Z",
     "iopub.status.idle": "2022-12-14T19:35:29.145184Z",
     "shell.execute_reply": "2022-12-14T19:35:29.144608Z",
     "shell.execute_reply.started": "2022-12-14T19:35:29.141032Z"
    }
   },
   "source": [
    "### Create a plot that uses `MAF` and `matplotlib`"
   ]
  },
  {
   "cell_type": "code",
   "execution_count": null,
   "id": "d53c25f3-2398-49ea-93ee-e96a052252e4",
   "metadata": {
    "tags": []
   },
   "outputs": [],
   "source": [
    "with TemporaryDirectory() as maf_dir:\n",
    "    count_ra_hist = schedview.plot.maf.create_sample_maf_metric_plot(\n",
    "        OPSIM_OUTPUT_FNAME, maf_dir, NIGHT\n",
    "    )"
   ]
  },
  {
   "cell_type": "markdown",
   "id": "678ac42f-0acf-410f-aa35-cf0e57997af2",
   "metadata": {},
   "source": [
    "## Build a dashboard with `panel`"
   ]
  },
  {
   "cell_type": "code",
   "execution_count": null,
   "id": "7b1f736d-4991-42a8-9f60-57685a4da999",
   "metadata": {
    "tags": []
   },
   "outputs": [],
   "source": [
    "pn.Column(\n",
    "    f\"<h1>Pre-night briefing for {NIGHT.iso.split()[0]}</h1>\",\n",
    "    pn.pane.PNG(\n",
    "        \"https://project.lsst.org/sites/default/files/Rubin-O-Logo_0.png\", height=50\n",
    "    ),\n",
    "    \"<h2>Astronomical Events</h2>\",\n",
    "    astro_events,\n",
    "    \"<h2>Rewards by survey, with time</h2>\",\n",
    "    night_rewards_plot,\n",
    "    \"<h2>Simulated visits</h2>\",\n",
    "    visit_explorer,\n",
    "    \"<h2>Visit map</h2>\",\n",
    "    vmap,\n",
    "    \"<h2>Count (g visits) by R.A.</h2>\",\n",
    "    count_ra_hist,\n",
    ")"
   ]
  }
 ],
 "metadata": {
  "kernelspec": {
   "display_name": "ehn310",
   "language": "python",
   "name": "ehn310"
  },
  "language_info": {
   "codemirror_mode": {
    "name": "ipython",
    "version": 3
   },
   "file_extension": ".py",
   "mimetype": "text/x-python",
   "name": "python",
   "nbconvert_exporter": "python",
   "pygments_lexer": "ipython3",
   "version": "3.10.6"
  },
  "vscode": {
   "interpreter": {
    "hash": "8f716438b432a9cce0d1718507c983c697ec5d817d7dabcbee39092aa596e59c"
   }
  }
 },
 "nbformat": 4,
 "nbformat_minor": 5
}
